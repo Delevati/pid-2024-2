{
  "cells": [
    {
      "cell_type": "markdown",
      "metadata": {
        "id": "CI5Fv6Ef_cLu"
      },
      "source": [
        "# Controladores Baseados em Conhecimento (Crisp e Fuzzy)\n",
        "PPGI065 - Sistemas de Controle Inteligente\n",
        "Professores: Glauber Leite / Ícaro Bezerra"
      ]
    },
    {
      "cell_type": "markdown",
      "metadata": {
        "id": "VRtMt1qx_pH3"
      },
      "source": [
        "## Atividade prática"
      ]
    },
    {
      "cell_type": "markdown",
      "metadata": {
        "id": "vVbCRJEN_saU"
      },
      "source": [
        "Esta atividade tem como objetivo trabalhar conceitos de sistemas de controle baseados em conhecimento, tanto usando regras *crisp*, ou seja explícitas, quanto usando uma abordagem nebulosa, ou fuzzy. A atividade foi planejada para ser desenvolvida em trio e usando a linguagem Python (com bibliotecas básicas). Por se tratar de um Python Notebook, os discentes podem usar o Colab como ferramenta de desenvolvimento colaborativo."
      ]
    },
    {
      "cell_type": "markdown",
      "metadata": {
        "id": "LHecyl7WAuiO"
      },
      "source": [
        "A atividade será apresentada na forma de roteiro, com passos de desenvolvimento de código. No entanto, também é esperado que passos teóricos e de documentação sejam escritos neste mesmo arquivo, usando a [markdown](https://colab.research.google.com/notebooks/markdown_guide.ipynb)."
      ]
    },
    {
      "cell_type": "markdown",
      "metadata": {
        "id": "KBs-IcY7B5Fw"
      },
      "source": [
        "### Bibliotecas a serem importadas"
      ]
    },
    {
      "cell_type": "markdown",
      "metadata": {
        "id": "jWW-3THtB-N3"
      },
      "source": [
        "Espera-se a utilização do mínimo necessário de bibliotecas."
      ]
    },
    {
      "cell_type": "code",
      "execution_count": null,
      "metadata": {
        "id": "yJiHAL2m_Qn1"
      },
      "outputs": [],
      "source": [
        "import numpy as np\n",
        "import matplotlib.pyplot as plt"
      ]
    },
    {
      "cell_type": "markdown",
      "metadata": {
        "id": "pMVNfkjqDfH1"
      },
      "source": [
        "### Definição da planta"
      ]
    },
    {
      "cell_type": "markdown",
      "metadata": {
        "id": "YuCP03vHDj-v"
      },
      "source": [
        "Defina aqui a planta que será usada para a implementação do controlador. Alguns requisitos devem ser considerados:\n",
        "1. Tem que ser um sistema com múltiplas entradas e múltiplas saídas (ex.: o sistema térmico que vimos em sala, sistema CSTR (*continuous stirred tank reactor*, entre outros). Traga uma figura que mostre o sistema, as entradas e saídas (um bom aplicativo para fazer ilustrações assim, caso já não use um, é o [draw.io](https://www.drawio.com/))\n",
        "2. O sistema deve apresentar dinâmica, sendo regido por equações diferenciais. Traga a(s) equação(ões) que representa(m) a dinâmica do sistema nesta seção.\n",
        "3. O sistema deve ter uma ou mais variáveis que representam uma situação de alarme, que, nesse caso, representa um evento discreto e terá uma regra associada. Descreva o que esse alarme vai representar fisicamente na planta."
      ]
    },
    {
      "cell_type": "markdown",
      "metadata": {},
      "source": []
    },
    {
      "cell_type": "markdown",
      "metadata": {
        "id": "4_SKsbXJFz1d"
      },
      "source": [
        "### Implementação da dinâmica do sistema"
      ]
    },
    {
      "cell_type": "code",
      "execution_count": null,
      "metadata": {
        "id": "WeuYMqFuF6Ce"
      },
      "outputs": [],
      "source": [
        "### Implemente uma função que \"dá um passo\" na dinâmica do sistema, dados os estados atuais e o vetor de entradas do sistema\n",
        "### A assinatura da função a seguir é apenas um exemplo, pode ser que você precise de mais parâmetros\n",
        "def step(x, u):\n",
        "  ## ...\n",
        "  ## x = f(x, u)\n",
        "  ## ...\n",
        "  return x"
      ]
    },
    {
      "cell_type": "markdown",
      "metadata": {
        "id": "Mw9iS23SFaLA"
      },
      "source": [
        "### Base de conhecimento (*crisp*)"
      ]
    },
    {
      "cell_type": "markdown",
      "metadata": {
        "id": "XB2hUX_NFdZ3"
      },
      "source": [
        "Enumere um conjunto de regras explícitas, baseadas em lógica **Se ... Então ...**, que façam sentido para o funcionamento do sistema"
      ]
    },
    {
      "cell_type": "markdown",
      "metadata": {
        "id": "q8D9Yx6PUTuA"
      },
      "source": [
        "1. Regra 1...\n",
        "2. Regra 2...\n",
        "3. Regra 3..."
      ]
    },
    {
      "cell_type": "markdown",
      "metadata": {
        "id": "cukyjgL8HFfm"
      },
      "source": [
        "### Implementação do controlador *crisp*"
      ]
    },
    {
      "cell_type": "code",
      "execution_count": null,
      "metadata": {
        "id": "8sfdbYqBUXsE"
      },
      "outputs": [],
      "source": [
        "def decide(x):\n",
        "  # Implementação da máquina de inferência\n",
        "  # u = ...\n",
        "  return  u"
      ]
    },
    {
      "cell_type": "markdown",
      "metadata": {
        "id": "JqRRTWw5HdK9"
      },
      "source": [
        "### Rodando a simulação"
      ]
    },
    {
      "cell_type": "markdown",
      "metadata": {
        "id": "2byRxWmjHzMQ"
      },
      "source": [
        "Implemente uma rotina que simule o comportamento da planta. Depois de certo tempo, acione o sinal de alarme. Ao final, plote as variáveis de referência e de atuação do controlador."
      ]
    },
    {
      "cell_type": "code",
      "execution_count": null,
      "metadata": {
        "id": "ijHna1jFHyjc"
      },
      "outputs": [],
      "source": [
        "# Implemente aqui a simulação"
      ]
    },
    {
      "cell_type": "markdown",
      "metadata": {
        "id": "QdQ16WZRH51e"
      },
      "source": [
        "Escreva uma conclusão sobre o comportamento do sistema em malha fechada. Quando ele funciona melhor? Quais são as limitações do controlador? Você consegue criar cenários em que ele não vai chegar na referência?"
      ]
    },
    {
      "cell_type": "markdown",
      "metadata": {
        "id": "dT4f4-XfHg2P"
      },
      "source": [
        "### Uma abordagem nebulosa"
      ]
    },
    {
      "cell_type": "markdown",
      "metadata": {
        "id": "mJ-jjVhnHms0"
      },
      "source": [
        "Agora traga uma variação da planta, só que usando regras e lógica difusa. Siga os passos de documentação da abordagem anterior. Descreva a lógica e base de conhecimento difusa.\n",
        "Tente trazer uma explicação física para as funções de pertinência."
      ]
    },
    {
      "cell_type": "markdown",
      "metadata": {
        "id": "NtJKQdgrHkH_"
      },
      "source": [
        "### Implementação do controlador fuzzy"
      ]
    },
    {
      "cell_type": "code",
      "execution_count": null,
      "metadata": {
        "id": "fX9LfYSVHxc4"
      },
      "outputs": [],
      "source": []
    },
    {
      "cell_type": "markdown",
      "metadata": {
        "id": "lv4x51ARHquu"
      },
      "source": [
        "### Rodando a simulação"
      ]
    },
    {
      "cell_type": "code",
      "execution_count": null,
      "metadata": {
        "id": "Sq_lJ1m7H2nX"
      },
      "outputs": [],
      "source": []
    },
    {
      "cell_type": "markdown",
      "metadata": {
        "id": "ecjQ1gIYH91F"
      },
      "source": [
        "Escreva uma conclusão sobre o comportamento do sistema em malha fechada. Quando ele funciona melhor? Quais são as limitações do controlador? Você consegue criar cenários em que ele não vai chegar na referência?"
      ]
    }
  ],
  "metadata": {
    "colab": {
      "provenance": []
    },
    "kernelspec": {
      "display_name": "Python 3",
      "name": "python3"
    },
    "language_info": {
      "name": "python"
    }
  },
  "nbformat": 4,
  "nbformat_minor": 0
}
